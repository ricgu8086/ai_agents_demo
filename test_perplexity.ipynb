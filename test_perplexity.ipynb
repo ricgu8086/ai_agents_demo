{
 "cells": [
  {
   "cell_type": "markdown",
   "id": "425d4c59",
   "metadata": {},
   "source": [
    "Perplexity quick start guide. More info here:\n",
    "\n",
    "https://docs.perplexity.ai/getting-started/quickstart#python"
   ]
  },
  {
   "cell_type": "code",
   "execution_count": null,
   "id": "6d96a924",
   "metadata": {},
   "outputs": [],
   "source": [
    "import os\n",
    "import requests\n",
    "\n",
    "from dotenv import load_dotenv\n",
    "from pprint import pprint"
   ]
  },
  {
   "cell_type": "code",
   "execution_count": 2,
   "id": "dc85afde",
   "metadata": {},
   "outputs": [
    {
     "data": {
      "text/plain": [
       "True"
      ]
     },
     "execution_count": 2,
     "metadata": {},
     "output_type": "execute_result"
    }
   ],
   "source": [
    "load_dotenv(override=True)"
   ]
  },
  {
   "cell_type": "code",
   "execution_count": 3,
   "id": "672c2b0d",
   "metadata": {},
   "outputs": [],
   "source": [
    "API_KEY = os.getenv(\"API_KEY\")"
   ]
  },
  {
   "cell_type": "code",
   "execution_count": 4,
   "id": "7c1d1719",
   "metadata": {},
   "outputs": [],
   "source": [
    "# Set up the API endpoint and headers\n",
    "\n",
    "url = \"https://api.perplexity.ai/chat/completions\"\n",
    "\n",
    "headers = {\n",
    "    \"Authorization\": f\"Bearer {API_KEY}\",\n",
    "    \"Content-Type\": \"application/json\"\n",
    "}"
   ]
  },
  {
   "cell_type": "code",
   "execution_count": 5,
   "id": "753cc91e",
   "metadata": {},
   "outputs": [],
   "source": [
    "# Define the request payload\n",
    "\n",
    "payload = {\n",
    "    \"model\": \"sonar-pro\",\n",
    "    \"messages\": [\n",
    "        {\"role\": \"user\", \"content\": \"What were the results of the 2025 French Open Finals?\"}\n",
    "    ]\n",
    "}\n"
   ]
  },
  {
   "cell_type": "code",
   "execution_count": 6,
   "id": "837a56b1",
   "metadata": {},
   "outputs": [],
   "source": [
    "# Make the API call\n",
    "response = requests.post(url, headers=headers, json=payload)"
   ]
  },
  {
   "cell_type": "code",
   "execution_count": 7,
   "id": "f9a33d3a",
   "metadata": {},
   "outputs": [
    {
     "name": "stdout",
     "output_type": "stream",
     "text": [
      "{'choices': [{'delta': {'content': '', 'role': 'assistant'},\n",
      "              'finish_reason': 'stop',\n",
      "              'index': 0,\n",
      "              'message': {'content': 'In the 2025 French Open Finals, **Carlos '\n",
      "                                     'Alcaraz defeated Jannik Sinner** in the '\n",
      "                                     \"men's singles, and **Coco Gauff defeated \"\n",
      "                                     \"Aryna Sabalenka** in the women's \"\n",
      "                                     'singles.\\n'\n",
      "                                     '\\n'\n",
      "                                     \"- **Men's Singles Final:** Carlos \"\n",
      "                                     'Alcaraz def. Jannik Sinner 4–6, '\n",
      "                                     '6–7^(4–7), 6–4, 7–6^(7–3), 7–6^(10–2)\\n'\n",
      "                                     '  - This was the longest French Open '\n",
      "                                     'final in history, lasting 5 hours and 29 '\n",
      "                                     'minutes, with Alcaraz coming back from '\n",
      "                                     'two sets down and saving three '\n",
      "                                     'consecutive championship points[2][3].\\n'\n",
      "                                     '  - Alcaraz secured his second French '\n",
      "                                     'Open title and fifth major title '\n",
      "                                     'overall[2][3].\\n'\n",
      "                                     '\\n'\n",
      "                                     \"- **Women's Singles Final:** Coco Gauff \"\n",
      "                                     'def. Aryna Sabalenka 6–7, 6–2, 6–4\\n'\n",
      "                                     \"  - This victory marked Gauff's first \"\n",
      "                                     'French Open title and her second career '\n",
      "                                     'Grand Slam after the 2023 US Open[1].\\n'\n",
      "                                     '\\n'\n",
      "                                     'These finals were highly competitive and '\n",
      "                                     'have been described as some of the most '\n",
      "                                     'thrilling matches in recent tennis '\n",
      "                                     'history[2].',\n",
      "                          'role': 'assistant'}}],\n",
      " 'citations': ['https://www.cbssports.com/tennis/news/2025-french-open-results-schedule-as-jannik-sinner-faces-carlos-alcaraz-coco-gauff-earns-first-title/',\n",
      "               \"https://en.wikipedia.org/wiki/2025_French_Open_%E2%80%93_Men's_singles_final\",\n",
      "               \"https://en.wikipedia.org/wiki/2025_French_Open_%E2%80%93_Men's_singles\",\n",
      "               'https://www.youtube.com/watch?v=aERKJuBtIGw',\n",
      "               'https://www.espn.com/tennis/french-open/bracket',\n",
      "               'https://www.rolandgarros.com/en-us/matches',\n",
      "               'https://www.espn.com/tennis/scoreboard/tournament/_/eventId/172-2025/competitionType/1',\n",
      "               'https://www.youtube.com/watch?v=H52VQbqUIF0'],\n",
      " 'created': 1757844635,\n",
      " 'id': '1687d10c-9bb3-421c-ab4f-19e541692f22',\n",
      " 'model': 'sonar-pro',\n",
      " 'object': 'chat.completion',\n",
      " 'search_results': [{'date': '2025-06-07',\n",
      "                     'last_updated': '2025-09-14',\n",
      "                     'snippet': \"A new women's champion has been crowned after \"\n",
      "                                'Coco Gauff rallied to take down Aryna '\n",
      "                                'Sabalenka in a three-set thriller in the '\n",
      "                                'final at Roland ...',\n",
      "                     'title': '2025 French Open: Results, schedule as Jannik '\n",
      "                              'Sinner faces Carlos ...',\n",
      "                     'url': 'https://www.cbssports.com/tennis/news/2025-french-open-results-schedule-as-jannik-sinner-faces-carlos-alcaraz-coco-gauff-earns-first-title/'},\n",
      "                    {'date': '2025-06-08',\n",
      "                     'last_updated': '2025-09-11',\n",
      "                     'snippet': 'After 5 hours and 29 minutes of play, Alcaraz '\n",
      "                                'defeated Sinner 4–6, 6–7 (4–7) , 6–4, 7–6 '\n",
      "                                '(7–3) , 7–6 (10–2) , in the longest French '\n",
      "                                'Open final in history.',\n",
      "                     'title': \"2025 French Open – Men's singles final - \"\n",
      "                              'Wikipedia',\n",
      "                     'url': \"https://en.wikipedia.org/wiki/2025_French_Open_%E2%80%93_Men's_singles_final\"},\n",
      "                    {'date': '2025-04-27',\n",
      "                     'last_updated': '2025-09-14',\n",
      "                     'snippet': 'Defending champion Carlos Alcaraz defeated '\n",
      "                                'Jannik Sinner in the final, 4–6, 6–7, 6–4, '\n",
      "                                \"7–6, 7–6 to win the men's singles tennis \"\n",
      "                                'title at the 2025 French Open. ...',\n",
      "                     'title': \"2025 French Open – Men's singles - Wikipedia\",\n",
      "                     'url': \"https://en.wikipedia.org/wiki/2025_French_Open_%E2%80%93_Men's_singles\"},\n",
      "                    {'date': '2025-06-08',\n",
      "                     'last_updated': '2025-07-29',\n",
      "                     'snippet': \"Watch the highlights of the 2025 Men's \"\n",
      "                                'singles final between Jannik Sinner and '\n",
      "                                'Carlos Alcaraz. Sponsored by Emirates.',\n",
      "                     'title': 'Highlights Sinner vs Alcaraz Final | '\n",
      "                              'Roland-Garros 2025 - YouTube',\n",
      "                     'url': 'https://www.youtube.com/watch?v=aERKJuBtIGw'},\n",
      "                    {'date': '2025-05-28',\n",
      "                     'last_updated': '2025-05-27',\n",
      "                     'snippet': 'Roland-Garros Bracket 2025 ; Final. 1. J. '\n",
      "                                'Sinner. 17. A. Rublev ; Retired. 3. A. '\n",
      "                                'Zverev. T. Griekspoor ; Final. 8. L. Musetti. '\n",
      "                                '10. H. Rune.',\n",
      "                     'title': \"2025 Roland-Garros Men's Singles Draw - ESPN\",\n",
      "                     'url': 'https://www.espn.com/tennis/french-open/bracket'},\n",
      "                    {'date': '2025-06-07',\n",
      "                     'last_updated': '2025-09-10',\n",
      "                     'snippet': \"Sunday, June 8, 2025 Women's Doubles \"\n",
      "                                'Completed Court Philippe-Chatrier - final '\n",
      "                                '2h15 KAZ A.Danilina SRB A.Krunic 4 6 1 ITA '\n",
      "                                'S.Errani (2) ITA J.Paolini (2) 6',\n",
      "                     'title': 'All matches - Roland-Garros 2025 - The official '\n",
      "                              'site',\n",
      "                     'url': 'https://www.rolandgarros.com/en-us/matches'},\n",
      "                    {'date': '2025-06-08',\n",
      "                     'last_updated': '2025-09-14',\n",
      "                     'snippet': \"Men's Singles · 1. Jannik Sinner. 67 746 36 · \"\n",
      "                                '2. Carlos Alcaraz. 46 467 77 10. Final - '\n",
      "                                'Court Philippe-Chatrier. ESPN.',\n",
      "                     'title': \"2025 Roland Garros Men's Singles Tennis Live \"\n",
      "                              'Scores - ESPN',\n",
      "                     'url': 'https://www.espn.com/tennis/scoreboard/tournament/_/eventId/172-2025/competitionType/1'},\n",
      "                    {'date': '2025-06-07',\n",
      "                     'last_updated': '2025-08-29',\n",
      "                     'snippet': \"Watch the highlights of the 2025 Women's \"\n",
      "                                'singles Final between Aryna Sabalenka and '\n",
      "                                'Coco Gauff. Sponsored by Emirates.',\n",
      "                     'title': 'Highlights Sabalenka vs Gauff Final | '\n",
      "                              'Roland-Garros 2025 - YouTube',\n",
      "                     'url': 'https://www.youtube.com/watch?v=H52VQbqUIF0'}],\n",
      " 'usage': {'completion_tokens': 247,\n",
      "           'cost': {'input_tokens_cost': 0.0,\n",
      "                    'output_tokens_cost': 0.004,\n",
      "                    'request_cost': 0.006,\n",
      "                    'total_cost': 0.01},\n",
      "           'prompt_tokens': 13,\n",
      "           'search_context_size': 'low',\n",
      "           'total_tokens': 260}}\n"
     ]
    }
   ],
   "source": [
    "if response.status_code == 200:\n",
    "    pprint(response.json())\n",
    "else:\n",
    "    print(f\"Error: {response.status_code}\")\n",
    "    print(response.text)"
   ]
  }
 ],
 "metadata": {
  "kernelspec": {
   "display_name": "agent_demo",
   "language": "python",
   "name": "python3"
  },
  "language_info": {
   "codemirror_mode": {
    "name": "ipython",
    "version": 3
   },
   "file_extension": ".py",
   "mimetype": "text/x-python",
   "name": "python",
   "nbconvert_exporter": "python",
   "pygments_lexer": "ipython3",
   "version": "3.12.11"
  }
 },
 "nbformat": 4,
 "nbformat_minor": 5
}
