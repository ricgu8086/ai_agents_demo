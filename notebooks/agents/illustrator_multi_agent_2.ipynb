{
 "cells": [
  {
   "cell_type": "markdown",
   "id": "0322e21a",
   "metadata": {},
   "source": [
    "# Illustrator multi-agent\n",
    "\n",
    "This is an exercise to complete in home\n"
   ]
  },
  {
   "cell_type": "markdown",
   "id": "9665b066",
   "metadata": {},
   "source": [
    "Given raw text our autonomous agent will:\n",
    "\n",
    "- **Search a directory and load articles.**\n",
    "- Read the article and analyze its topic and structure.\n",
    "- Decide how many images suit better to the article. Focusing on improving attractiveness while not harming readability.\n",
    "- Decide where in the article new companion images should be located.\n",
    "- Create detailed image descriptions suitable to create suggested images using an external image generator model.\n",
    "- **Call the image generator to create the images.**\n",
    "- **Download the images and store them in disk**"
   ]
  },
  {
   "cell_type": "code",
   "execution_count": null,
   "id": "6dbbbc15",
   "metadata": {},
   "outputs": [],
   "source": [
    "import os\n",
    "import json\n",
    "\n",
    "from crewai import LLM, Agent, Task, Crew, Process\n",
    "from crewai.tools import tool\n",
    "from crewai_tools import (\n",
    "    DirectoryReadTool,\n",
    "    FileReadTool, DallETool)\n",
    "from dotenv import load_dotenv\n",
    "\n",
    "from IPython.display import Image"
   ]
  },
  {
   "cell_type": "markdown",
   "id": "f4a83e53",
   "metadata": {},
   "source": [
    "# Configure LLMs and providers"
   ]
  },
  {
   "cell_type": "code",
   "execution_count": null,
   "id": "dfc9f81e",
   "metadata": {},
   "outputs": [],
   "source": [
    "SELECTED_MODEL=\"sonar-pro\"\n",
    "URL_PROVIDER=\"https://api.perplexity.ai/\""
   ]
  },
  {
   "cell_type": "code",
   "execution_count": null,
   "id": "8dd074a0",
   "metadata": {},
   "outputs": [],
   "source": [
    "load_dotenv(override=True)"
   ]
  },
  {
   "cell_type": "code",
   "execution_count": null,
   "id": "eda680f4",
   "metadata": {},
   "outputs": [],
   "source": [
    "API_KEY = os.getenv(\"API_KEY\")"
   ]
  },
  {
   "cell_type": "code",
   "execution_count": null,
   "id": "3ba81493",
   "metadata": {},
   "outputs": [],
   "source": [
    "def get_llm():\n",
    "    return LLM(model=SELECTED_MODEL, \n",
    "               api_key=API_KEY, \n",
    "               base_url=URL_PROVIDER)"
   ]
  },
  {
   "cell_type": "code",
   "execution_count": null,
   "id": "c011d6ca",
   "metadata": {},
   "outputs": [],
   "source": [
    "llm = get_llm()"
   ]
  },
  {
   "cell_type": "markdown",
   "id": "6124fce1",
   "metadata": {},
   "source": [
    "# General structure of a Crew AI agent\n",
    "\n",
    "1. **Tools**\n",
    "2. Agents\n",
    "3. Tasks\n",
    "4. Crew"
   ]
  },
  {
   "cell_type": "markdown",
   "id": "3ffc4915",
   "metadata": {},
   "source": [
    "## 1. Tools"
   ]
  },
  {
   "cell_type": "code",
   "execution_count": null,
   "id": "e0b903d9",
   "metadata": {},
   "outputs": [],
   "source": [
    "docs_tool = DirectoryReadTool(directory='./shared_community_manager_docs',\n",
    "                              file_types=['.txt', '.md'],)\n",
    "file_tool = FileReadTool()"
   ]
  },
  {
   "cell_type": "markdown",
   "id": "89e4c662",
   "metadata": {},
   "source": [
    "How to create your own tools?\n",
    "\n",
    "How to create them with enough quality?\n",
    "\n",
    "**Docstrings and type hints!!**"
   ]
  },
  {
   "cell_type": "code",
   "execution_count": null,
   "id": "4802dd39",
   "metadata": {},
   "outputs": [],
   "source": [
    "@tool\n",
    "def generate_image(description: str) -> str:\n",
    "    \"\"\"\n",
    "    Generate an image based on the provided description using Nano Banana\n",
    "    and return the URL of the generated image.\n",
    "\n",
    "    Parameters:\n",
    "        description (str): A detailed description of the image to be generated.\n",
    "\n",
    "    Returns:\n",
    "        str: URL of the generated image.\n",
    "    \"\"\"\n",
    "\n",
    "    # Add your code here\n",
    "    return url"
   ]
  },
  {
   "cell_type": "code",
   "execution_count": null,
   "id": "dcff8800",
   "metadata": {},
   "outputs": [],
   "source": [
    "@tool\n",
    "def store_url_image_in_disk(url: str) -> str:\n",
    "    \"\"\"\n",
    "    Store the image from the provided URL in disk and return the local path.\n",
    "\n",
    "    Parameters:\n",
    "        url (str): URL of the image to be stored.\n",
    "\n",
    "    Returns:\n",
    "        str: Local path where the image is stored.\n",
    "    \"\"\"\n",
    "\n",
    "    # Add your code here\n",
    "    return local_path"
   ]
  },
  {
   "cell_type": "markdown",
   "id": "eb568224",
   "metadata": {},
   "source": [
    "**Tip**: Check [Crew AI's tools catalog](https://docs.crewai.com/en/concepts/tools#available-crewai-tools). There are lots of useful tools ready to use."
   ]
  },
  {
   "cell_type": "markdown",
   "id": "be38a4c3",
   "metadata": {},
   "source": [
    "## 1. Agents"
   ]
  },
  {
   "cell_type": "markdown",
   "id": "ecdca27e",
   "metadata": {},
   "source": [
    "Add the new tools to the agent"
   ]
  },
  {
   "cell_type": "code",
   "execution_count": null,
   "id": "bb51547c",
   "metadata": {},
   "outputs": [],
   "source": [
    "image_creator_agent = Agent(\n",
    "    role=\"Senior image creator\",\n",
    "    goal=\"To generate high-quality image descriptions that align with the content of articles.\",\n",
    "    backstory=\"You have been analyzing articles for years and know how to create compelling images that capture the essence of the content and increase reader engagement. \"\n",
    "                \"You are skilled in understanding the nuances of different topics and can generate image descriptions that are both relevant and engaging.\",\n",
    "    tools=[docs_tool, file_tool],\n",
    "    verbose=True,\n",
    "    llm=llm\n",
    "    )"
   ]
  },
  {
   "cell_type": "markdown",
   "id": "94bb9382",
   "metadata": {},
   "source": [
    "## 2. Tasks"
   ]
  },
  {
   "cell_type": "markdown",
   "id": "28afebce",
   "metadata": {},
   "source": [
    "Don't forget to adapt the tasks to use the tools"
   ]
  },
  {
   "cell_type": "code",
   "execution_count": null,
   "id": "de93f772",
   "metadata": {},
   "outputs": [],
   "source": [
    "image_description_task = Task(\n",
    "    name=\"Image description generation\",\n",
    "    description=\"You will generate good quality image descriptions for an article. \"\n",
    "                \"Depending on the topic and the length of the article you will decide the number of images. Always between 1 and 3. \"\n",
    "                \"Read the article from the shared directory.\",\n",
    "    expected_output=\"\"\"A list containing JSON objects, each one with 3 keys: \n",
    "                    'order' which contains an integer that indicates the order (1,2 ..) of the generated image. \n",
    "                    'previous_text': last 4 or 5 words where you decide to insert the image below, just for position reference. \n",
    "                    'description': a very detailed image description that can be used to create the image.\"\"\",\n",
    "    context=[],\n",
    "    agent=image_creator_agent\n",
    ")\n",
    "\n",
    "image_creation_taks = Task(\n",
    "    name=\"Image creation\",\n",
    "    description=\"You will create images based on the provided descriptions. \"\n",
    "                \"Use the description to generate an image that accurately reflects the content and context of the description. \"\n",
    "                \"Ensure that the images are of high quality and resolution, suitable for use in articles. \"\n",
    "    expected_output=\"A list of URLs pointing to the generated images, each corresponding to the provided descriptions.\",\n",
    "    context=[image_description_task],\n",
    "    agent=image_creator_agent\n",
    ")"
   ]
  },
  {
   "cell_type": "markdown",
   "id": "11db727e",
   "metadata": {},
   "source": [
    "## 3. Crew"
   ]
  },
  {
   "cell_type": "code",
   "execution_count": null,
   "id": "807577f5",
   "metadata": {},
   "outputs": [],
   "source": [
    "crew = Crew(agents=[image_description_task],\n",
    "            tasks=[image_description_task, image_creation_task],\n",
    "            process=Process.sequential,\n",
    "            verbose=True)"
   ]
  },
  {
   "cell_type": "markdown",
   "id": "516e23ec",
   "metadata": {},
   "source": [
    "## Launch execution"
   ]
  },
  {
   "cell_type": "code",
   "execution_count": null,
   "id": "10383908",
   "metadata": {},
   "outputs": [],
   "source": [
    "result = crew.kickoff()"
   ]
  },
  {
   "cell_type": "markdown",
   "id": "a1808433",
   "metadata": {},
   "source": [
    "## Results"
   ]
  },
  {
   "cell_type": "code",
   "execution_count": null,
   "id": "0f8d0fb7",
   "metadata": {},
   "outputs": [],
   "source": [
    "print(result.raw)"
   ]
  },
  {
   "cell_type": "markdown",
   "id": "4cf7be2f",
   "metadata": {},
   "source": [
    "## Costs"
   ]
  },
  {
   "cell_type": "code",
   "execution_count": null,
   "id": "7d711a0d",
   "metadata": {},
   "outputs": [],
   "source": [
    "crew.usage_metrics"
   ]
  },
  {
   "cell_type": "markdown",
   "id": "3aa5ad92",
   "metadata": {},
   "source": [
    "# Let's visualize the results"
   ]
  },
  {
   "cell_type": "markdown",
   "id": "fbb2e660",
   "metadata": {},
   "source": [
    "https://aistudio.google.com\n",
    "\n",
    "Model: Nano Banana"
   ]
  },
  {
   "cell_type": "code",
   "execution_count": null,
   "id": "f3b7f81b",
   "metadata": {},
   "outputs": [],
   "source": [
    "result_json = json.loads(result.raw)"
   ]
  },
  {
   "cell_type": "markdown",
   "id": "32217f5e",
   "metadata": {},
   "source": [
    "## Image 1"
   ]
  },
  {
   "cell_type": "code",
   "execution_count": null,
   "id": "8b03f7d7",
   "metadata": {},
   "outputs": [],
   "source": [
    "print(result_json[0]['description'])"
   ]
  },
  {
   "cell_type": "code",
   "execution_count": null,
   "id": "3680e1cd",
   "metadata": {},
   "outputs": [],
   "source": [
    "Image(filename=\"../../resources/generated1.png\", retina=True)"
   ]
  },
  {
   "cell_type": "markdown",
   "id": "4ac2a09d",
   "metadata": {},
   "source": [
    "## Image 2"
   ]
  },
  {
   "cell_type": "code",
   "execution_count": null,
   "id": "e1dbbc9f",
   "metadata": {},
   "outputs": [],
   "source": [
    "print(result_json[1]['description'])"
   ]
  },
  {
   "cell_type": "code",
   "execution_count": null,
   "id": "05f98e7f",
   "metadata": {},
   "outputs": [],
   "source": [
    "Image(filename=\"../../resources/generated2.png\", retina=True)"
   ]
  },
  {
   "cell_type": "markdown",
   "id": "77eac139",
   "metadata": {},
   "source": [
    "## Image 3"
   ]
  },
  {
   "cell_type": "code",
   "execution_count": null,
   "id": "052d5bff",
   "metadata": {},
   "outputs": [],
   "source": [
    "print(result_json[2]['description'])"
   ]
  },
  {
   "cell_type": "code",
   "execution_count": null,
   "id": "3f9aee1d",
   "metadata": {},
   "outputs": [],
   "source": [
    "Image(filename=\"../../resources/generated3.png\", retina=True)"
   ]
  },
  {
   "cell_type": "markdown",
   "id": "17b54d0b",
   "metadata": {},
   "source": [
    "# Improvements?"
   ]
  },
  {
   "cell_type": "markdown",
   "id": "fe2f42a5",
   "metadata": {},
   "source": [
    "Ideas are welcome!\n",
    "\n",
    "I can show you the way but you decide to walk it."
   ]
  }
 ],
 "metadata": {
  "kernelspec": {
   "display_name": "agent_demo",
   "language": "python",
   "name": "python3"
  },
  "language_info": {
   "codemirror_mode": {
    "name": "ipython",
    "version": 3
   },
   "file_extension": ".py",
   "mimetype": "text/x-python",
   "name": "python",
   "nbconvert_exporter": "python",
   "pygments_lexer": "ipython3",
   "version": "3.12.11"
  }
 },
 "nbformat": 4,
 "nbformat_minor": 5
}
