{
 "cells": [
  {
   "cell_type": "code",
   "execution_count": 1,
   "id": "0c66c825",
   "metadata": {},
   "outputs": [],
   "source": [
    "import os\n",
    "\n",
    "from crewai import LLM\n",
    "from dotenv import load_dotenv"
   ]
  },
  {
   "cell_type": "code",
   "execution_count": 2,
   "id": "566e0651",
   "metadata": {},
   "outputs": [],
   "source": [
    "# Perplexity configuration\n",
    "\n",
    "\"\"\"\"\n",
    "More info here:\n",
    "https://docs.perplexity.ai/getting-started/quickstart#python\n",
    "https://docs.crewai.com/en/concepts/llms#perplexity-ai\n",
    "\"\"\"\n",
    "\n",
    "SELECTED_MODEL=\"sonar-pro\"\n",
    "URL_PROVIDER=\"https://api.perplexity.ai/\""
   ]
  },
  {
   "cell_type": "code",
   "execution_count": 3,
   "id": "a5facd4b",
   "metadata": {},
   "outputs": [
    {
     "data": {
      "text/plain": [
       "True"
      ]
     },
     "execution_count": 3,
     "metadata": {},
     "output_type": "execute_result"
    }
   ],
   "source": [
    "load_dotenv(override=True)"
   ]
  },
  {
   "cell_type": "code",
   "execution_count": 4,
   "id": "94fdfaeb",
   "metadata": {},
   "outputs": [],
   "source": [
    "API_KEY = os.getenv(\"API_KEY\")"
   ]
  },
  {
   "cell_type": "code",
   "execution_count": 5,
   "id": "6a1c56b9",
   "metadata": {},
   "outputs": [],
   "source": [
    "def get_llm():\n",
    "    return LLM(model=SELECTED_MODEL, \n",
    "               api_key=API_KEY, \n",
    "               base_url=URL_PROVIDER)"
   ]
  },
  {
   "cell_type": "code",
   "execution_count": 6,
   "id": "01d6b8b0",
   "metadata": {},
   "outputs": [],
   "source": [
    "llm = get_llm()"
   ]
  },
  {
   "cell_type": "code",
   "execution_count": 8,
   "id": "e1b78d0e",
   "metadata": {},
   "outputs": [
    {
     "name": "stdout",
     "output_type": "stream",
     "text": [
      "**Pac-Man** is a classic arcade game developed by Namco and released in 1980, notable for its simple yet addictive **maze chase gameplay** and its status as one of the most iconic video games of all time[1][3].\n",
      "\n",
      "The player controls **Pac-Man**, a yellow, circular character, guiding him through a maze filled with dots while avoiding four colored ghosts: Blinky, Pinky, Inky, and Clyde[1]. The primary **objective is to eat all the dots** in the maze, while avoiding being caught by the ghosts; eating special \"Power Pellets\" temporarily allows Pac-Man to eat the ghosts for extra points[1]. \n",
      "\n",
      "**Development** was led by Toru Iwatani, who aimed to create a game that would appeal to both men and women, departing from the violent themes typical of the era[1]. Pac-Man’s design inspiration came from a pizza with a slice missing and the Japanese character for mouth, \"kuchi\" (口)[1].\n",
      "\n",
      "**Cultural impact and legacy:**\n",
      "- Pac-Man has become the official mascot of Namco (now Bandai Namco Entertainment)[1][3].\n",
      "- The franchise includes numerous sequels, spin-off games, merchandise, and even two animated television series[1][3].\n",
      "- The game and its character are widely recognized symbols of 1980s pop culture and video gaming[3].\n",
      "- Pac-Man has grossed over **$14 billion** and seen **over 43 million units sold** as of 2016, making it one of the highest-grossing games ever[1][3].\n",
      "\n",
      "The original game’s **innovative AI** made each ghost behave differently, giving the game both challenge and replayability[1]. Subsequent spin-offs and sequels explored new genres, but the core maze-chase formula remains the series' hallmark[3].\n"
     ]
    }
   ],
   "source": [
    "response = llm.call(\"Tell me something about Pacman\")\n",
    "print(response)"
   ]
  }
 ],
 "metadata": {
  "kernelspec": {
   "display_name": "agent_demo",
   "language": "python",
   "name": "python3"
  },
  "language_info": {
   "codemirror_mode": {
    "name": "ipython",
    "version": 3
   },
   "file_extension": ".py",
   "mimetype": "text/x-python",
   "name": "python",
   "nbconvert_exporter": "python",
   "pygments_lexer": "ipython3",
   "version": "3.12.11"
  }
 },
 "nbformat": 4,
 "nbformat_minor": 5
}
